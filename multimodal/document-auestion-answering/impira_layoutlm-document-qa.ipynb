{
 "cells": [
  {
   "cell_type": "markdown",
   "metadata": {},
   "source": [
    "### LayoutLM for Visual Question Answering\n",
    "This is a fine-tuned version of the multi-modal LayoutLM model for the task of question answering on documents. It has been fine-tuned using both the SQuAD2.0 and DocVQA datasets.\n",
    "\n",
    "### Getting started with the model\n",
    "To run these examples, you must have PIL, pytesseract, and PyTorch installed in addition to transformers."
   ]
  },
  {
   "cell_type": "code",
   "execution_count": null,
   "metadata": {},
   "outputs": [],
   "source": [
    "from transformers import pipeline\n",
    "\n",
    "nlp = pipeline(\n",
    "    \"document-question-answering\",\n",
    "    model=\"impira/layoutlm-document-qa\",\n",
    ")\n",
    "\n",
    "nlp(\n",
    "    \"https://templates.invoicehome.com/invoice-template-us-neat-750px.png\",\n",
    "    \"What is the invoice number?\"\n",
    ")\n",
    "# {'score': 0.9943977, 'answer': 'us-001', 'start': 15, 'end': 15}\n",
    "\n",
    "nlp(\n",
    "    \"https://miro.medium.com/max/787/1*iECQRIiOGTmEFLdWkVIH2g.jpeg\",\n",
    "    \"What is the purchase amount?\"\n",
    ")\n",
    "# {'score': 0.9912159, 'answer': '$1,000,000,000', 'start': 97, 'end': 97}\n",
    "\n",
    "nlp(\n",
    "    \"https://www.accountingcoach.com/wp-content/uploads/2013/10/income-statement-example@2x.png\",\n",
    "    \"What are the 2020 net sales?\"\n",
    ")\n",
    "# {'score': 0.59147286, 'answer': '$ 3,750', 'start': 19, 'end': 20}\n"
   ]
  }
 ],
 "metadata": {
  "kernelspec": {
   "display_name": ".venv",
   "language": "python",
   "name": "python3"
  },
  "language_info": {
   "codemirror_mode": {
    "name": "ipython",
    "version": 3
   },
   "file_extension": ".py",
   "mimetype": "text/x-python",
   "name": "python",
   "nbconvert_exporter": "python",
   "pygments_lexer": "ipython3",
   "version": "3.11.4"
  },
  "orig_nbformat": 4
 },
 "nbformat": 4,
 "nbformat_minor": 2
}
